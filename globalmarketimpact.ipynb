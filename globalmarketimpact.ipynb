{
  "nbformat": 4,
  "nbformat_minor": 0,
  "metadata": {
    "colab": {
      "provenance": [],
      "authorship_tag": "ABX9TyOUvYDoNIYS7ctjc9385K1N",
      "include_colab_link": true
    },
    "kernelspec": {
      "name": "python3",
      "display_name": "Python 3"
    },
    "language_info": {
      "name": "python"
    }
  },
  "cells": [
    {
      "cell_type": "markdown",
      "metadata": {
        "id": "view-in-github",
        "colab_type": "text"
      },
      "source": [
        "<a href=\"https://colab.research.google.com/github/Aabhiinavvv/real-time-event-impact-on-market/blob/main/globalmarketimpact.ipynb\" target=\"_parent\"><img src=\"https://colab.research.google.com/assets/colab-badge.svg\" alt=\"Open In Colab\"/></a>"
      ]
    },
    {
      "cell_type": "code",
      "source": [
        "!git config --global user.name \"aabhiinavvv\"\n",
        "!git config --global user.email \"abhinavyadavv3012@gmail.com\"\n"
      ],
      "metadata": {
        "id": "xxXS7g6_svuv"
      },
      "execution_count": 1,
      "outputs": []
    },
    {
      "cell_type": "code",
      "source": [
        "!git clone https://github.com/Aabhiinavvv/real-time-event-impact-on-market.git\n"
      ],
      "metadata": {
        "colab": {
          "base_uri": "https://localhost:8080/"
        },
        "id": "ZY-L3kLTv_kY",
        "outputId": "538a57df-b4c3-4072-cd6b-27aa562cef03"
      },
      "execution_count": 5,
      "outputs": [
        {
          "output_type": "stream",
          "name": "stdout",
          "text": [
            "fatal: destination path 'real-time-event-impact-on-market' already exists and is not an empty directory.\n"
          ]
        }
      ]
    },
    {
      "cell_type": "code",
      "source": [
        "%cd <real-time-event-impact-on-market>\n",
        "!git add .\n",
        "!git commit -m \"Your commit message\"\n",
        "!git push origin main\n"
      ],
      "metadata": {
        "colab": {
          "base_uri": "https://localhost:8080/"
        },
        "id": "DqbTkvNPw2yK",
        "outputId": "488e23c5-77fe-4b97-f226-203afcfc083a"
      },
      "execution_count": 8,
      "outputs": [
        {
          "output_type": "stream",
          "name": "stdout",
          "text": [
            "[Errno 2] No such file or directory: '<real-time-event-impact-on-market>'\n",
            "/content\n",
            "fatal: not a git repository (or any of the parent directories): .git\n",
            "fatal: not a git repository (or any of the parent directories): .git\n",
            "fatal: not a git repository (or any of the parent directories): .git\n"
          ]
        }
      ]
    },
    {
      "cell_type": "code",
      "source": [
        "!rm -rf real-time-event-impact-on-market\n"
      ],
      "metadata": {
        "id": "Tdxoka2vyf4E"
      },
      "execution_count": 9,
      "outputs": []
    },
    {
      "cell_type": "code",
      "source": [
        "!git clone https://github.com/Aabhiinavvv/real-time-event-impact-on-market.git\n"
      ],
      "metadata": {
        "colab": {
          "base_uri": "https://localhost:8080/"
        },
        "id": "vPt5be_tygJ_",
        "outputId": "4282f7b7-85f8-446c-c250-d5059e9db89c"
      },
      "execution_count": 10,
      "outputs": [
        {
          "output_type": "stream",
          "name": "stdout",
          "text": [
            "Cloning into 'real-time-event-impact-on-market'...\n",
            "remote: Enumerating objects: 5, done.\u001b[K\n",
            "remote: Counting objects: 100% (5/5), done.\u001b[K\n",
            "remote: Compressing objects: 100% (4/4), done.\u001b[K\n",
            "remote: Total 5 (delta 0), reused 0 (delta 0), pack-reused 0 (from 0)\u001b[K\n",
            "Receiving objects: 100% (5/5), done.\n"
          ]
        }
      ]
    },
    {
      "cell_type": "code",
      "source": [
        "%cd real-time-event-impact-on-market\n"
      ],
      "metadata": {
        "colab": {
          "base_uri": "https://localhost:8080/"
        },
        "id": "6QBqU4SRykSv",
        "outputId": "d4d7fda5-936e-4a1a-c31c-b074b0cfa973"
      },
      "execution_count": 11,
      "outputs": [
        {
          "output_type": "stream",
          "name": "stdout",
          "text": [
            "/content/real-time-event-impact-on-market\n"
          ]
        }
      ]
    },
    {
      "cell_type": "code",
      "source": [
        "!git add .\n",
        "!git commit -m \"Your commit message\"\n",
        "!git push origin main\n"
      ],
      "metadata": {
        "colab": {
          "base_uri": "https://localhost:8080/"
        },
        "id": "hpEHTA6WyoGo",
        "outputId": "26e27a8b-65b7-45ab-cafb-1eba172ec5ef"
      },
      "execution_count": 12,
      "outputs": [
        {
          "output_type": "stream",
          "name": "stdout",
          "text": [
            "On branch main\n",
            "Your branch is up to date with 'origin/main'.\n",
            "\n",
            "nothing to commit, working tree clean\n",
            "fatal: could not read Username for 'https://github.com': No such device or address\n"
          ]
        }
      ]
    },
    {
      "cell_type": "code",
      "source": [
        "A# Cell 1 — Setup\n",
        "# Run this first\n",
        "\n",
        "# If you need to install packages in Colab, uncomment the pip line(s) below.\n",
        "# (Colab usually has plotly, matplotlib and sklearn. TensorFlow may already be present.)\n",
        "# !pip install -q plotly ipywidgets tensorflow\n",
        "\n",
        "import numpy as np\n",
        "import pandas as pd\n",
        "from datetime import datetime\n",
        "import statsmodels.api as sm\n",
        "from sklearn.preprocessing import MinMaxScaler\n",
        "import plotly.graph_objects as go\n",
        "import matplotlib.pyplot as plt\n",
        "from IPython.display import display, clear_output\n",
        "import ipywidgets as widgets\n",
        "import warnings\n",
        "warnings.filterwarnings(\"ignore\")\n",
        "\n",
        "# Try-import TensorFlow (LSTM). If missing, install or raise helpful message.\n",
        "TF_AVAILABLE = True\n",
        "try:\n",
        "    import tensorflow as tf\n",
        "    from tensorflow.keras.models import Sequential\n",
        "    from tensorflow.keras.layers import LSTM, Dense\n",
        "except Exception as e:\n",
        "    TF_AVAILABLE = False\n",
        "    print(\"Warning: TensorFlow not available. The cell will attempt a lightweight fallback forecast.\")\n",
        "\n",
        "# Small helper to make future dates robustly\n",
        "def make_future_dates(last_date, days):\n",
        "    # Use pd.date_range and avoid Timestamp + timedelta mix issues\n",
        "    return pd.date_range(start=last_date, periods=days+1, freq=\"D\")[1:]\n"
      ],
      "metadata": {
        "id": "zQ0nSnyyL4XL"
      },
      "execution_count": null,
      "outputs": []
    },
    {
      "cell_type": "code",
      "source": [],
      "metadata": {
        "id": "Uf2dY5yRw1Yp"
      },
      "execution_count": null,
      "outputs": []
    },
    {
      "cell_type": "code",
      "source": [],
      "metadata": {
        "id": "e2HBmaisL8XP"
      },
      "execution_count": null,
      "outputs": []
    }
  ]
}